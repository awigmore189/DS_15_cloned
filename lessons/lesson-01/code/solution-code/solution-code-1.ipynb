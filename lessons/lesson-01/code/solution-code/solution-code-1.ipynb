{
 "cells": [
  {
   "cell_type": "markdown",
   "metadata": {
    "slideshow": {
     "slide_type": "slide"
    }
   },
   "source": [
    "# Check to see if you're ready to go on Saturday!\n",
    "\n",
    "1. Run each block of code\n",
    "2. Check for errors\n",
    "3. When you think you're error free, flag down a teaching team member to confirm!"
   ]
  },
  {
   "cell_type": "code",
   "execution_count": 2,
   "metadata": {
    "collapsed": false
   },
   "outputs": [],
   "source": [
    "###This is what an error looks like\n",
    "#print(a)"
   ]
  },
  {
   "cell_type": "markdown",
   "metadata": {},
   "source": [
    "# Objectives\n",
    "### Get comfortable with IPython Notebook\n",
    "\n",
    "* How to start IPython Notebook\n",
    "* How to read data into pandas\n",
    "* How to do simple manipulations on pandas dataframes\n",
    "\n",
    "\n",
    "## Start a notebook:\n",
    "For each class, we'll be using a set of common data science libraries and tools, like the IPython notebook. You can start an IPython notebook by running\n",
    "\n",
    "```\n",
    "jupyter notebook $NAME_OF_FILE\n",
    "```"
   ]
  },
  {
   "cell_type": "markdown",
   "metadata": {},
   "source": [
    "\n",
    "## Try it yourself!\n",
    "Read and run the block of code below by: \n",
    "1. Clicking on it and pressing the play button above or\n",
    "2. Using a short cut- (help --> keyboard shortcuts)"
   ]
  },
  {
   "cell_type": "code",
   "execution_count": 3,
   "metadata": {
    "collapsed": false,
    "scrolled": true,
    "slideshow": {
     "slide_type": "skip"
    }
   },
   "outputs": [],
   "source": [
    "%matplotlib inline\n",
    "import matplotlib.pyplot as plt\n",
    "import matplotlib as mpl\n",
    "import pandas as pd\n",
    "\n",
    "mpl.rcParams['figure.figsize'] = (15, 6)\n",
    "pd.set_option('display.width', 4000)\n",
    "pd.set_option('display.max_columns', 100)"
   ]
  },
  {
   "cell_type": "markdown",
   "metadata": {
    "slideshow": {
     "slide_type": "slide"
    }
   },
   "source": [
    "# First: Read in the data\n",
    "### Review Simple Commands\n",
    "\n",
    "Practice downloading and reading into sample data"
   ]
  },
  {
   "cell_type": "code",
   "execution_count": 4,
   "metadata": {
    "collapsed": false
   },
   "outputs": [],
   "source": [
    "# Download and read the data (this may take more than 1 minute)\n",
    "orig_data = pd.read_csv('../../assets/dataset/311-service-requests.csv', parse_dates=['Created Date'], low_memory=False, nrows=50)"
   ]
  },
  {
   "cell_type": "code",
   "execution_count": 5,
   "metadata": {
    "collapsed": false,
    "scrolled": true
   },
   "outputs": [
    {
     "data": {
      "text/plain": [
       "<matplotlib.collections.PathCollection at 0x7fddd9fc5d50>"
      ]
     },
     "execution_count": 5,
     "metadata": {},
     "output_type": "execute_result"
    },
    {
     "data": {
      "image/png": "[encoded data removed]",
      "text/plain": [
       "<matplotlib.figure.Figure at 0x7fddafc7f690>"
      ]
     },
     "metadata": {},
     "output_type": "display_data"
    }
   ],
   "source": [
    "plt.scatter(orig_data['Longitude'], orig_data['Latitude'], marker='.', color=\"purple\")"
   ]
  },
  {
   "cell_type": "markdown",
   "metadata": {
    "slideshow": {
     "slide_type": "slide"
    }
   },
   "source": [
    "## Try this Example: \n",
    "Graph the number of noise complaints each hour in New York"
   ]
  },
  {
   "cell_type": "code",
   "execution_count": 6,
   "metadata": {
    "collapsed": false,
    "slideshow": {
     "slide_type": "fragment"
    }
   },
   "outputs": [
    {
     "data": {
      "text/plain": [
       "<matplotlib.axes._subplots.AxesSubplot at 0x7fddad3b8b90>"
      ]
     },
     "execution_count": 6,
     "metadata": {},
     "output_type": "execute_result"
    },
    {
     "data": {
      "image/png": "[encoded data removed]",
      "text/plain": [
       "<matplotlib.figure.Figure at 0x7fddad90de90>"
      ]
     },
     "metadata": {},
     "output_type": "display_data"
    }
   ],
   "source": [
    "complaints = orig_data[['Created Date', 'Complaint Type']]\n",
    "noise_complaints = complaints[complaints['Complaint Type'] == 'Noise - Street/Sidewalk']\n",
    "noise_complaints.set_index('Created Date').sort_index().resample('H').count().plot()"
   ]
  },
  {
   "cell_type": "markdown",
   "metadata": {},
   "source": [
    "# Second: Using IPython\n",
    "### Review Python Basics\n",
    "\n",
    "Test your skills by answering the following questions:"
   ]
  },
  {
   "cell_type": "markdown",
   "metadata": {},
   "source": [
    "#### Question 1.  Divide 10 by 20 and set the result to a variable named \"A\""
   ]
  },
  {
   "cell_type": "code",
   "execution_count": 7,
   "metadata": {
    "collapsed": false
   },
   "outputs": [
    {
     "name": "stdout",
     "output_type": "stream",
     "text": [
      "0\n"
     ]
    }
   ],
   "source": [
    "A = 10/20\n",
    "print(A)"
   ]
  },
  {
   "cell_type": "code",
   "execution_count": 8,
   "metadata": {
    "collapsed": false
   },
   "outputs": [
    {
     "name": "stdout",
     "output_type": "stream",
     "text": [
      "0.5\n"
     ]
    }
   ],
   "source": [
    "#### If you did not get a float (decimals) alter your equation to get the desired result (0.5) \n",
    "A = 10.0/20\n",
    "print(A)"
   ]
  },
  {
   "cell_type": "markdown",
   "metadata": {},
   "source": [
    "#### Question 2. Create a function called division that will divide any two numbers and prints the result (with decimals). \n",
    "Call your function. Confirm that the results are as expected."
   ]
  },
  {
   "cell_type": "code",
   "execution_count": 9,
   "metadata": {
    "collapsed": false
   },
   "outputs": [
    {
     "name": "stdout",
     "output_type": "stream",
     "text": [
      "2.0\n",
      "0.5\n"
     ]
    }
   ],
   "source": [
    "def division(numerator, denominator):\n",
    "    result = float(numerator) / denominator\n",
    "    print(result)\n",
    "division(20, 10)\n",
    "division(10, 20)"
   ]
  },
  {
   "cell_type": "markdown",
   "metadata": {},
   "source": [
    "#### Question 3. Using .split() split my string into separate words"
   ]
  },
  {
   "cell_type": "code",
   "execution_count": 10,
   "metadata": {
    "collapsed": false
   },
   "outputs": [
    {
     "name": "stdout",
     "output_type": "stream",
     "text": [
      "['the', 'cow', 'jumped', 'over', 'the', 'moon']\n"
     ]
    }
   ],
   "source": [
    "my_string = \"the cow jumped over the moon\"\n",
    "words = my_string.split()\n",
    "# returns ['the', 'cow', 'jumped', 'over', 'the', 'moon']\n",
    "print(words)"
   ]
  },
  {
   "cell_type": "markdown",
   "metadata": {},
   "source": [
    "#### Question 4. How many words are in my_string?"
   ]
  },
  {
   "cell_type": "code",
   "execution_count": 11,
   "metadata": {
    "collapsed": false
   },
   "outputs": [
    {
     "name": "stdout",
     "output_type": "stream",
     "text": [
      "6\n"
     ]
    }
   ],
   "source": [
    "word_count = len(words)\n",
    "#returns the number of words- 6\n",
    "print(word_count)"
   ]
  },
  {
   "cell_type": "markdown",
   "metadata": {},
   "source": [
    "#### Question 5. Use a list comprehension to find the length of each word"
   ]
  },
  {
   "cell_type": "code",
   "execution_count": 12,
   "metadata": {
    "collapsed": false
   },
   "outputs": [
    {
     "name": "stdout",
     "output_type": "stream",
     "text": [
      "[3, 3, 6, 4, 3, 4]\n"
     ]
    }
   ],
   "source": [
    "length_of_each_word = [len(word) for word in words]\n",
    "print(length_of_each_word)"
   ]
  },
  {
   "cell_type": "markdown",
   "metadata": {},
   "source": [
    "#### Question 6. Put the words back together in a variable called sentence using .join()"
   ]
  },
  {
   "cell_type": "code",
   "execution_count": 13,
   "metadata": {
    "collapsed": false
   },
   "outputs": [
    {
     "name": "stdout",
     "output_type": "stream",
     "text": [
      "the cow jumped over the moon\n"
     ]
    }
   ],
   "source": [
    "# put them back together with join\n",
    "sentence = \" \".join(words)\n",
    "print(sentence)"
   ]
  },
  {
   "cell_type": "markdown",
   "metadata": {},
   "source": [
    "#### Bonus: Add a \"||\" between each word"
   ]
  },
  {
   "cell_type": "code",
   "execution_count": 14,
   "metadata": {
    "collapsed": false
   },
   "outputs": [
    {
     "name": "stdout",
     "output_type": "stream",
     "text": [
      "the||cow||jumped||over||the||moon\n"
     ]
    }
   ],
   "source": [
    "# the \" \" puts the space in between the words. or you could put anything else in\n",
    "alternate_sentence = \"||\".join(words)\n",
    "print(alternate_sentence)"
   ]
  }
 ],
 "metadata": {
  "kernelspec": {
   "display_name": "Python [Root]",
   "language": "python",
   "name": "Python [Root]"
  },
  "language_info": {
   "codemirror_mode": {
    "name": "ipython",
    "version": 2
   },
   "file_extension": ".py",
   "mimetype": "text/x-python",
   "name": "python",
   "nbconvert_exporter": "python",
   "pygments_lexer": "ipython2",
   "version": "2.7.12"
  }
 },
 "nbformat": 4,
 "nbformat_minor": 0
}
